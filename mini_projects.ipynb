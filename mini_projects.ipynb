{
 "cells": [
  {
   "cell_type": "markdown",
   "metadata": {
    "id": "40dCmOST9iEa"
   },
   "source": [
    "## [Spin the planet](https://github.com/IDilettant/Training-mini-projects/blob/main/projects/spin_the_planet/main.py)\n",
    "\n",
    "Print a string representation of a rotating Earth to the terminal\n",
    "\n",
    "- Working with strings\n",
    "- Output to terminal\n",
    "- ANSI control characters\n",
    "\n",
    "#### Used libraries:\n",
    "- [time](https://docs.python.org/3/library/time.html)"
   ]
  },
  {
   "cell_type": "code",
   "execution_count": 4,
   "metadata": {
    "id": "HIvCbXXA9r9H"
   },
   "outputs": [
    {
     "name": "stdout",
     "output_type": "stream",
     "text": [
      "/home/idilettant/projects/Training-mini-projects/.venv/bin/python3: Error while finding module specification for 'projects/spin_the_planet/main.py' (ModuleNotFoundError: No module named 'projects/spin_the_planet/main')\r\n"
     ]
    }
   ],
   "source": [
    "!python3 -m projects/spin_the_planet/main.py"
   ]
  },
  {
   "cell_type": "markdown",
   "metadata": {
    "id": "1NWhHOm_9sdZ"
   },
   "source": [
    "## [Speech preparation](https://github.com/IDilettant/Training-mini-projects/blob/main/projects/speech_preparing/main.py)\n",
    "\n",
    "Exercise on automatic translation of English text into Russian transliteration with compilation of a mini-dictionary for numbers\n",
    "\n",
    "#### Used libraries:\n",
    "- [transliterate](https://pypi.org/project/transliterate/)\n",
    "- [num2words](https://pypi.org/project/num2words/)"
   ]
  },
  {
   "cell_type": "code",
   "execution_count": 3,
   "metadata": {
    "id": "GXltSmjcB2Tk"
   },
   "outputs": [
    {
     "name": "stdout",
     "output_type": "stream",
     "text": [
      "/home/idilettant/projects/Training-mini-projects/.venv/bin/python3: Error while finding module specification for 'projects/speech_preparing/main.py' (ModuleNotFoundError: No module named 'projects/speech_preparing/main')\r\n"
     ]
    }
   ],
   "source": [
    "!python3 -m projects/speech_preparing/main.py"
   ]
  },
  {
   "cell_type": "markdown",
   "metadata": {
    "id": "T1fiVzeiE_mL"
   },
   "source": [
    "## [Image processing](https://github.com/IDilettant/Training-mini-projects/blob/main/projects/avatar_cropping/main.py)\n",
    "\n",
    "Form an avatar from the original image with the effect of blur and color filters\n",
    "- Working with RGB channels\n",
    "- Image layout\n",
    "\n",
    "#### Used libraries:\n",
    "- [Pillow](https://pillow.readthedocs.io/en/stable/)"
   ]
  },
  {
   "cell_type": "code",
   "execution_count": null,
   "metadata": {
    "id": "gnqvEvA4E_2F"
   },
   "outputs": [],
   "source": [
    "!cat projects/avatar_cropping/monro.jpg"
   ]
  },
  {
   "cell_type": "code",
   "execution_count": null,
   "metadata": {
    "id": "IUyli2geKOf9"
   },
   "outputs": [],
   "source": [
    "!cat projects/avatar_cropping/blurry_avatar.jpg"
   ]
  },
  {
   "cell_type": "markdown",
   "metadata": {
    "id": "0ZTeVRRpJJdh"
   },
   "source": [
    "## [Generating charsheets of characters](https://github.com/IDilettant/Training-mini-projects/tree/main/projects/fake_people)\n",
    "\n",
    "Based on the svg template, generate tables of characters with characteristics in a given range and random names\n",
    "- Reading and writing files\n",
    "- Testing library\n",
    "- Dictionaries and lists\n",
    "- Cycles\n",
    "\n",
    "#### Used libraries:\n",
    "- [Random](https://docs.python.org/3/library/random.html)\n",
    "- [Faker](https://faker.readthedocs.io/en/master/)"
   ]
  },
  {
   "cell_type": "code",
   "execution_count": null,
   "metadata": {
    "id": "w0kcLycDJJvO"
   },
   "outputs": [],
   "source": [
    "!cat projects/fake_people/charsheet.svg "
   ]
  },
  {
   "cell_type": "code",
   "execution_count": null,
   "metadata": {
    "id": "Xq2sMMPeNa40"
   },
   "outputs": [],
   "source": [
    "!cat projects/fake_people/new_charsheets/new_charsheet_1.svg"
   ]
  },
  {
   "cell_type": "markdown",
   "metadata": {
    "id": "T54LVFiVNf6-"
   },
   "source": [
    "## [Password rating](https://github.com/IDilettant/Training-mini-projects/blob/main/projects/password_strength/main.py)\n",
    "\n",
    "Dynamically determining the rating of the entering password"
   ]
  },
  {
   "cell_type": "code",
   "execution_count": null,
   "metadata": {
    "id": "OqYwFfJTNgVN"
   },
   "outputs": [],
   "source": [
    "!python3 -m projects/password_strength/main.py"
   ]
  },
  {
   "cell_type": "markdown",
   "metadata": {
    "id": "jppJ194QNuX7"
   },
   "source": [
    "## [Nearest bar search](https://github.com/IDilettant/Training-mini-projects/blob/main/projects/bars_search/main.py)\n",
    "\n",
    "Search for the five nearest bars within a radius of a given address in Moscow\n",
    "- Network application and requests\n",
    "- Working with data in JSON format / nested structures\n",
    "- Yandex geocoder API\n",
    "- List processing\n",
    "- HTML generation\n",
    "\n",
    "#### Used libraries:\n",
    "- [GeoPy](https://geopy.readthedocs.io/en/stable/)\n",
    "- [Folium](http://python-visualization.github.io/folium/)\n",
    "- [Flask](https://flask.palletsprojects.com/en/2.0.x)\n",
    "- [Json](https://docs.python.org/3/library/json.html)\n",
    "- [Requests](https://docs.python-requests.org/en/master/)"
   ]
  },
  {
   "cell_type": "code",
   "execution_count": null,
   "metadata": {
    "id": "Vvbg8upZNuki"
   },
   "outputs": [],
   "source": [
    "!python3 -m projects/bars_search/main.py"
   ]
  }
 ],
 "metadata": {
  "colab": {
   "name": "Mini-projects.ipynb",
   "provenance": [],
   "toc_visible": true
  },
  "kernelspec": {
   "display_name": "Python 3 (ipykernel)",
   "language": "python",
   "name": "python3"
  },
  "language_info": {
   "codemirror_mode": {
    "name": "ipython",
    "version": 3
   },
   "file_extension": ".py",
   "mimetype": "text/x-python",
   "name": "python",
   "nbconvert_exporter": "python",
   "pygments_lexer": "ipython3",
   "version": "3.8.10"
  }
 },
 "nbformat": 4,
 "nbformat_minor": 1
}
